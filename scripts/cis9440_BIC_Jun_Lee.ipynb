{
  "cells": [
    {
      "cell_type": "code",
      "execution_count": 1,
      "metadata": {
        "colab": {
          "base_uri": "https://localhost:8080/"
        },
        "id": "N1aInvUcP3qf",
        "outputId": "cce3b956-e567-4d00-9f91-7b4e22dc9db0"
      },
      "outputs": [
        {
          "name": "stdout",
          "output_type": "stream",
          "text": [
            "Collecting azure-storage-blob\n",
            "  Downloading azure_storage_blob-12.19.1-py3-none-any.whl (394 kB)\n",
            "\u001b[2K     \u001b[90m━━━━━━━━━━━━━━━━━━━━━━━━━━━━━━━━━━━━━━━━\u001b[0m \u001b[32m394.5/394.5 kB\u001b[0m \u001b[31m5.4 MB/s\u001b[0m eta \u001b[36m0:00:00\u001b[0m\n",
            "\u001b[?25hCollecting azure-core<2.0.0,>=1.28.0 (from azure-storage-blob)\n",
            "  Downloading azure_core-1.30.1-py3-none-any.whl (193 kB)\n",
            "\u001b[2K     \u001b[90m━━━━━━━━━━━━━━━━━━━━━━━━━━━━━━━━━━━━━━━━\u001b[0m \u001b[32m193.4/193.4 kB\u001b[0m \u001b[31m10.9 MB/s\u001b[0m eta \u001b[36m0:00:00\u001b[0m\n",
            "\u001b[?25hRequirement already satisfied: cryptography>=2.1.4 in /usr/local/lib/python3.10/dist-packages (from azure-storage-blob) (42.0.5)\n",
            "Requirement already satisfied: typing-extensions>=4.3.0 in /usr/local/lib/python3.10/dist-packages (from azure-storage-blob) (4.11.0)\n",
            "Collecting isodate>=0.6.1 (from azure-storage-blob)\n",
            "  Downloading isodate-0.6.1-py2.py3-none-any.whl (41 kB)\n",
            "\u001b[2K     \u001b[90m━━━━━━━━━━━━━━━━━━━━━━━━━━━━━━━━━━━━━━━━\u001b[0m \u001b[32m41.7/41.7 kB\u001b[0m \u001b[31m3.9 MB/s\u001b[0m eta \u001b[36m0:00:00\u001b[0m\n",
            "\u001b[?25hRequirement already satisfied: requests>=2.21.0 in /usr/local/lib/python3.10/dist-packages (from azure-core<2.0.0,>=1.28.0->azure-storage-blob) (2.31.0)\n",
            "Requirement already satisfied: six>=1.11.0 in /usr/local/lib/python3.10/dist-packages (from azure-core<2.0.0,>=1.28.0->azure-storage-blob) (1.16.0)\n",
            "Requirement already satisfied: cffi>=1.12 in /usr/local/lib/python3.10/dist-packages (from cryptography>=2.1.4->azure-storage-blob) (1.16.0)\n",
            "Requirement already satisfied: pycparser in /usr/local/lib/python3.10/dist-packages (from cffi>=1.12->cryptography>=2.1.4->azure-storage-blob) (2.22)\n",
            "Requirement already satisfied: charset-normalizer<4,>=2 in /usr/local/lib/python3.10/dist-packages (from requests>=2.21.0->azure-core<2.0.0,>=1.28.0->azure-storage-blob) (3.3.2)\n",
            "Requirement already satisfied: idna<4,>=2.5 in /usr/local/lib/python3.10/dist-packages (from requests>=2.21.0->azure-core<2.0.0,>=1.28.0->azure-storage-blob) (3.7)\n",
            "Requirement already satisfied: urllib3<3,>=1.21.1 in /usr/local/lib/python3.10/dist-packages (from requests>=2.21.0->azure-core<2.0.0,>=1.28.0->azure-storage-blob) (2.0.7)\n",
            "Requirement already satisfied: certifi>=2017.4.17 in /usr/local/lib/python3.10/dist-packages (from requests>=2.21.0->azure-core<2.0.0,>=1.28.0->azure-storage-blob) (2024.2.2)\n",
            "Installing collected packages: isodate, azure-core, azure-storage-blob\n",
            "Successfully installed azure-core-1.30.1 azure-storage-blob-12.19.1 isodate-0.6.1\n"
          ]
        }
      ],
      "source": [
        "!pip install azure-storage-blob\n",
        "#!pip install boto3\n",
        "#!pip install google-cloud-storage"
      ]
    },
    {
      "cell_type": "code",
      "execution_count": 4,
      "metadata": {
        "id": "36i4_Gz5LMb2"
      },
      "outputs": [],
      "source": [
        "# import libaries\n",
        "\n",
        "import pandas as pd\n",
        "import numpy as np\n",
        "import json\n",
        "import requests\n",
        "from azure.storage.blob import BlobServiceClient, BlobClient, ContainerClient\n",
        "from google.cloud import storage\n",
        "from io import StringIO\n"
      ]
    },
    {
      "cell_type": "code",
      "execution_count": null,
      "metadata": {
        "id": "pQD_6bnaLbID"
      },
      "outputs": [],
      "source": [
        "s1 - gather - decompress - conver to tabular - clean - reformat - consolidation - transformation - load"
      ]
    },
    {
      "cell_type": "code",
      "execution_count": 5,
      "metadata": {
        "id": "lRP9z4qMWQ-y"
      },
      "outputs": [],
      "source": [
        "# Azure function\n",
        "\n",
        "def azure_upload_blob(connect_str, container_name, blob_name, data):\n",
        "  blob_service_client = BlobServiceClient.from_connection_string(connect_str)\n",
        "  blob_client = blob_service_client.get_blob_client(container=container_name, blob=blob_name)\n",
        "  blob_client.upload_blob(data, overwrite =True)\n",
        "  print(f\"Uploaded to Azure Blob: {blob_name} \")\n",
        "\n",
        "def azure_download_blob(connect_str, container_name, blob_name):\n",
        "  blob_service_client = BlobServiceClient.from_connection_string(connect_str)\n",
        "  blob_client = blob_service_client.get_blob_client(container=container_name, blob=blob_name)\n",
        "  download_stream = blob_client.download_blob()\n",
        "  return download_stream.readall()\n",
        "\n"
      ]
    },
    {
      "cell_type": "code",
      "execution_count": 6,
      "metadata": {
        "colab": {
          "base_uri": "https://localhost:8080/"
        },
        "id": "D1D4w7lYLqkh",
        "outputId": "75ca50ad-3529-4463-cb17-0121379379be"
      },
      "outputs": [
        {
          "name": "stdout",
          "output_type": "stream",
          "text": [
            "<class 'pandas.core.frame.DataFrame'>\n",
            "RangeIndex: 10000 entries, 0 to 9999\n",
            "Data columns (total 31 columns):\n",
            " #   Column                      Non-Null Count  Dtype              \n",
            "---  ------                      --------------  -----              \n",
            " 0   violation_number            10000 non-null  object             \n",
            " 1   bic_number                  4701 non-null   float64            \n",
            " 2   account_name                10000 non-null  object             \n",
            " 3   type_of_violation           10000 non-null  object             \n",
            " 4   violation_phase             10000 non-null  object             \n",
            " 5   violation_disposition       10000 non-null  object             \n",
            " 6   account_type                10000 non-null  object             \n",
            " 7   violation_account_address   10000 non-null  object             \n",
            " 8   violation_account_city      10000 non-null  object             \n",
            " 9   violation_account_state     10000 non-null  object             \n",
            " 10  violation_account_postcode  10000 non-null  object             \n",
            " 11  borough_of_violation        10000 non-null  object             \n",
            " 12  date_of_violation           10000 non-null  datetime64[ns]     \n",
            " 13  date_violation_issued       10000 non-null  datetime64[ns, UTC]\n",
            " 14  maximum_fine                9994 non-null   float64            \n",
            " 15  fine_amount                 8456 non-null   float64            \n",
            " 16  date_fine_paid              5997 non-null   datetime64[ns]     \n",
            " 17  early_settlement_violation  10000 non-null  bool               \n",
            " 18  settlement_date             1831 non-null   datetime64[ns]     \n",
            " 19  rule_code                   10000 non-null  object             \n",
            " 20  number_of_counts            10000 non-null  int64              \n",
            " 21  description_of_rule         10000 non-null  object             \n",
            " 22  export_date                 10000 non-null  datetime64[ns]     \n",
            " 23  latitude                    5594 non-null   float64            \n",
            " 24  longitude                   5594 non-null   float64            \n",
            " 25  community_board             5594 non-null   float64            \n",
            " 26  council_district            5594 non-null   float64            \n",
            " 27  census_tract                5594 non-null   float64            \n",
            " 28  bin                         5391 non-null   float64            \n",
            " 29  bbl                         5391 non-null   float64            \n",
            " 30  nta                         10000 non-null  object             \n",
            "dtypes: bool(1), datetime64[ns, UTC](1), datetime64[ns](4), float64(10), int64(1), object(14)\n",
            "memory usage: 2.3+ MB\n",
            "None\n",
            "(10000, 31)\n",
            "Index(['violation_number', 'bic_number', 'account_name', 'type_of_violation',\n",
            "       'violation_phase', 'violation_disposition', 'account_type',\n",
            "       'violation_account_address', 'violation_account_city',\n",
            "       'violation_account_state', 'violation_account_postcode',\n",
            "       'borough_of_violation', 'date_of_violation', 'date_violation_issued',\n",
            "       'maximum_fine', 'fine_amount', 'date_fine_paid',\n",
            "       'early_settlement_violation', 'settlement_date', 'rule_code',\n",
            "       'number_of_counts', 'description_of_rule', 'export_date', 'latitude',\n",
            "       'longitude', 'community_board', 'council_district', 'census_tract',\n",
            "       'bin', 'bbl', 'nta'],\n",
            "      dtype='object')\n"
          ]
        }
      ],
      "source": [
        "URL = \"https://data.cityofnewyork.us/resource/upii-frjc.csv?$limit=10000\"\n",
        "\n",
        "df_raw = pd.read_csv(URL, engine = 'pyarrow')\n",
        "print(df_raw.info())\n",
        "print(df_raw.shape)\n",
        "df_raw.head()\n",
        "print(df_raw.columns)\n"
      ]
    },
    {
      "cell_type": "code",
      "execution_count": 13,
      "metadata": {
        "colab": {
          "base_uri": "https://localhost:8080/"
        },
        "id": "cWeF-SboMdDe",
        "outputId": "760996da-0d3c-4440-b635-61d741a53c6a"
      },
      "outputs": [
        {
          "data": {
            "text/plain": [
              "(10000, 31)"
            ]
          },
          "execution_count": 13,
          "metadata": {},
          "output_type": "execute_result"
        }
      ],
      "source": [
        "df_raw.dropna()\n",
        "df_raw.shape"
      ]
    },
    {
      "cell_type": "code",
      "execution_count": 14,
      "metadata": {
        "colab": {
          "base_uri": "https://localhost:8080/"
        },
        "id": "5JqKr61cOzOg",
        "outputId": "8f7aed1e-2cf8-49de-8e5b-0eb3d90eaa17"
      },
      "outputs": [
        {
          "name": "stdout",
          "output_type": "stream",
          "text": [
            "<class 'pandas.core.frame.DataFrame'>\n",
            "RangeIndex: 10000 entries, 0 to 9999\n",
            "Data columns (total 31 columns):\n",
            " #   Column                      Non-Null Count  Dtype              \n",
            "---  ------                      --------------  -----              \n",
            " 0   violation_number            10000 non-null  object             \n",
            " 1   bic_number                  4701 non-null   float64            \n",
            " 2   account_name                10000 non-null  object             \n",
            " 3   type_of_violation           10000 non-null  object             \n",
            " 4   violation_phase             10000 non-null  object             \n",
            " 5   violation_disposition       10000 non-null  object             \n",
            " 6   account_type                10000 non-null  object             \n",
            " 7   violation_account_address   10000 non-null  object             \n",
            " 8   violation_account_city      10000 non-null  object             \n",
            " 9   violation_account_state     10000 non-null  object             \n",
            " 10  violation_account_postcode  10000 non-null  object             \n",
            " 11  borough_of_violation        10000 non-null  object             \n",
            " 12  date_of_violation           10000 non-null  datetime64[ns]     \n",
            " 13  date_violation_issued       10000 non-null  datetime64[ns, UTC]\n",
            " 14  maximum_fine                9994 non-null   float64            \n",
            " 15  fine_amount                 8456 non-null   float64            \n",
            " 16  date_fine_paid              5997 non-null   datetime64[ns]     \n",
            " 17  early_settlement_violation  10000 non-null  bool               \n",
            " 18  settlement_date             1831 non-null   datetime64[ns]     \n",
            " 19  rule_code                   10000 non-null  object             \n",
            " 20  number_of_counts            10000 non-null  int64              \n",
            " 21  description_of_rule         10000 non-null  object             \n",
            " 22  export_date                 10000 non-null  datetime64[ns]     \n",
            " 23  latitude                    5594 non-null   float64            \n",
            " 24  longitude                   5594 non-null   float64            \n",
            " 25  community_board             5594 non-null   float64            \n",
            " 26  council_district            5594 non-null   float64            \n",
            " 27  census_tract                5594 non-null   float64            \n",
            " 28  bin                         5391 non-null   float64            \n",
            " 29  bbl                         5391 non-null   float64            \n",
            " 30  nta                         10000 non-null  object             \n",
            "dtypes: bool(1), datetime64[ns, UTC](1), datetime64[ns](4), float64(10), int64(1), object(14)\n",
            "memory usage: 2.3+ MB\n"
          ]
        }
      ],
      "source": [
        "df_raw.info()"
      ]
    },
    {
      "cell_type": "code",
      "execution_count": 15,
      "metadata": {
        "id": "_jPIPnB1O6S9"
      },
      "outputs": [],
      "source": [
        "df_cleaned = df_raw.copy()"
      ]
    },
    {
      "cell_type": "code",
      "execution_count": 7,
      "metadata": {
        "colab": {
          "base_uri": "https://localhost:8080/"
        },
        "id": "EH6igsiVPiqK",
        "outputId": "97999eba-7550-4c8a-d1b5-90932cfa244e"
      },
      "outputs": [
        {
          "name": "stdout",
          "output_type": "stream",
          "text": [
            "Uploaded bic_20240503.csv to azure blob storage in container bic. \n"
          ]
        }
      ],
      "source": [
        "# specify the path to your Json configuration file\n",
        "config_file_path = 'config.json'\n",
        "\n",
        "# load the JSON configuration file\n",
        "with open(config_file_path, 'r') as config_file:\n",
        "    config = json.load(config_file)\n",
        "\n",
        "#print the configuration\n",
        "#Connection_STRING = (config[\"connectionString\"])\n",
        "\n",
        "\n",
        "\n",
        "\n",
        "CONNECTION_STRING_AZURE_STORAGE = config[\"connectionString\"]\n",
        "\n",
        "CONTAINER_AZURE = \"bic\"\n",
        "blob_name = \"bic_20240503.csv\"\n",
        "\n",
        "\n",
        "# Convert Dataframe to CSV\n",
        "\n",
        "output = StringIO()\n",
        "df_raw.to_csv(output, index=False)\n",
        "data = output.getvalue()\n",
        "output.close()\n",
        "\n",
        "#Create the BlobServiceClient object\n",
        "blob_service_client = BlobServiceClient.from_connection_string(CONNECTION_STRING_AZURE_STORAGE)\n",
        "\n",
        "# Get a blob client using the container name and blob name\n",
        "blob_client = blob_service_client.get_blob_client(container=CONTAINER_AZURE, blob=blob_name)\n",
        "\n",
        "# Upload the CSV data\n",
        "blob_client.upload_blob(data, overwrite =True)\n",
        "\n",
        "print(f\"Uploaded {blob_name} to azure blob storage in container {CONTAINER_AZURE}. \")"
      ]
    }
  ],
  "metadata": {
    "colab": {
      "provenance": []
    },
    "kernelspec": {
      "display_name": "Python 3",
      "name": "python3"
    },
    "language_info": {
      "name": "python"
    }
  },
  "nbformat": 4,
  "nbformat_minor": 0
}
